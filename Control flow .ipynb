{
 "cells": [
  {
   "cell_type": "markdown",
   "id": "d132a2cc",
   "metadata": {},
   "source": [
    "# Basic If-Else Statements:"
   ]
  },
  {
   "cell_type": "markdown",
   "id": "3ef8f6a1",
   "metadata": {},
   "source": [
    "# 1. Write a Python program to check if a given number is positive or negative."
   ]
  },
  {
   "cell_type": "code",
   "execution_count": 1,
   "id": "e42a0410",
   "metadata": {},
   "outputs": [
    {
     "name": "stdout",
     "output_type": "stream",
     "text": [
      "Enter a number: 5\n",
      "The number is positive.\n"
     ]
    }
   ],
   "source": [
    "# Get the number from the user.\n",
    "number = float(input(\"Enter a number: \"))\n",
    "\n",
    "# Use an `if` statement to check if the number is greater than zero.\n",
    "if number > 0:\n",
    "  print(\"The number is positive.\")\n",
    "else:\n",
    "  print(\"The number is negative.\")\n"
   ]
  },
  {
   "cell_type": "markdown",
   "id": "66917eb5",
   "metadata": {},
   "source": [
    "# 2. Create a program that determines if a person is eligible to vote based on their age."
   ]
  },
  {
   "cell_type": "code",
   "execution_count": 2,
   "id": "40e796d3",
   "metadata": {},
   "outputs": [
    {
     "name": "stdout",
     "output_type": "stream",
     "text": [
      "Enter your age: 22\n",
      "The person is eligible to vote.\n"
     ]
    }
   ],
   "source": [
    "# Get the person's age from the user.\n",
    "age = int(input(\"Enter your age: \"))\n",
    "\n",
    "# Use an `if` statement to check if the person's age is greater than or equal to 18.\n",
    "if age >= 18:\n",
    "  print(\"The person is eligible to vote.\")\n",
    "else:\n",
    "  print(\"The person is not eligible to vote.\")\n"
   ]
  },
  {
   "cell_type": "markdown",
   "id": "ef4270e8",
   "metadata": {},
   "source": [
    "# 3. Develop a program to find the maximum of two numbers using if-else statements."
   ]
  },
  {
   "cell_type": "code",
   "execution_count": 3,
   "id": "9495ddfc",
   "metadata": {},
   "outputs": [
    {
     "name": "stdout",
     "output_type": "stream",
     "text": [
      "Enter the first number: 10\n",
      "Enter the second number: 5\n",
      "The maximum of the two numbers is 10.0\n"
     ]
    }
   ],
   "source": [
    "# Get the two numbers from the user.\n",
    "num1 = float(input(\"Enter the first number: \"))\n",
    "num2 = float(input(\"Enter the second number: \"))\n",
    "\n",
    "# Use an `if` statement to compare the two numbers.\n",
    "if num1 > num2:\n",
    "  max = num1\n",
    "else:\n",
    "  max = num2\n",
    "\n",
    "# Print the value of the variable `max`.\n",
    "print(\"The maximum of the two numbers is\", max)\n"
   ]
  },
  {
   "cell_type": "markdown",
   "id": "9631b81e",
   "metadata": {},
   "source": [
    "# 4. Write a Python script to classify a given year as a leap year or not."
   ]
  },
  {
   "cell_type": "code",
   "execution_count": 4,
   "id": "f7b6f24c",
   "metadata": {},
   "outputs": [
    {
     "name": "stdout",
     "output_type": "stream",
     "text": [
      "Enter a year: 2024\n",
      "2024 is a leap year.\n"
     ]
    }
   ],
   "source": [
    "# Get the year from the user.\n",
    "year = int(input(\"Enter a year: \"))\n",
    "\n",
    "# Use an `if` statement to check if the year is divisible by 4.\n",
    "if year % 4 == 0:\n",
    "  # If the year is divisible by 4, check if it is also divisible by 100.\n",
    "  if year % 100 == 0:\n",
    "    # If the year is divisible by both 4 and 100, check if it is divisible by 400.\n",
    "    if year % 400 == 0:\n",
    "      print(year, \"is a leap year.\")\n",
    "    else:\n",
    "      print(year, \"is not a leap year.\")\n",
    "  else:\n",
    "    print(year, \"is a leap year.\")\n",
    "else:\n",
    "  print(year, \"is not a leap year.\")\n"
   ]
  },
  {
   "cell_type": "markdown",
   "id": "13de8637",
   "metadata": {},
   "source": [
    "# 5. Create a program that checks whether a character is a vowel or a consonant."
   ]
  },
  {
   "cell_type": "code",
   "execution_count": 5,
   "id": "0ab25c78",
   "metadata": {},
   "outputs": [
    {
     "name": "stdout",
     "output_type": "stream",
     "text": [
      "Enter a character: a\n",
      "The character is a vowel.\n"
     ]
    }
   ],
   "source": [
    "# Get the character from the user.\n",
    "char = input(\"Enter a character: \")\n",
    "\n",
    "# Create a list of vowels.\n",
    "vowels = [\"a\", \"e\", \"i\", \"o\", \"u\"]\n",
    "\n",
    "# Use an `if` statement to check if the character is in the list of vowels.\n",
    "if char in vowels:\n",
    "  print(\"The character is a vowel.\")\n",
    "else:\n",
    "  print(\"The character is a consonant.\")\n"
   ]
  },
  {
   "cell_type": "markdown",
   "id": "120b3c4f",
   "metadata": {},
   "source": [
    "# 6. Implement a program to determine whether a given number is even or odd."
   ]
  },
  {
   "cell_type": "code",
   "execution_count": 7,
   "id": "7fb8e52e",
   "metadata": {},
   "outputs": [
    {
     "name": "stdout",
     "output_type": "stream",
     "text": [
      "True\n",
      "False\n"
     ]
    }
   ],
   "source": [
    "def is_even(number):\n",
    "    \n",
    "\n",
    "      return number % 2 == 0\n",
    "\n",
    "\n",
    "print(is_even(10))  \n",
    "print(is_even(11))\n"
   ]
  },
  {
   "cell_type": "markdown",
   "id": "09f123da",
   "metadata": {},
   "source": [
    "# 7. Write a Python function to calculate the absolute value of a number without using the `abs()` function."
   ]
  },
  {
   "cell_type": "code",
   "execution_count": 8,
   "id": "86c6dd30",
   "metadata": {},
   "outputs": [
    {
     "name": "stdout",
     "output_type": "stream",
     "text": [
      "10\n",
      "10\n"
     ]
    }
   ],
   "source": [
    "def absolute_value(number):\n",
    " \n",
    "\n",
    "  if number < 0:\n",
    "    return -number\n",
    "  else:\n",
    "    return number\n",
    "\n",
    "\n",
    "print(absolute_value(-10))  \n",
    "print(absolute_value(10))  \n"
   ]
  },
  {
   "cell_type": "markdown",
   "id": "5a05411c",
   "metadata": {},
   "source": [
    "# 8. Develop a program that determines the largest of three given numbers using if-else statements."
   ]
  },
  {
   "cell_type": "code",
   "execution_count": 12,
   "id": "e3864b6f",
   "metadata": {},
   "outputs": [
    {
     "name": "stdout",
     "output_type": "stream",
     "text": [
      "50\n",
      "40\n",
      "90\n"
     ]
    }
   ],
   "source": [
    "def largest_of_three(a, b, c):\n",
    "   \n",
    "\n",
    "    if a > b and a > c:\n",
    "        return a\n",
    "    elif b > a and b > c:\n",
    "        return b\n",
    "    else:\n",
    "        return c\n",
    "\n",
    "\n",
    "print(largest_of_three(10, 20, 50))  # 30\n",
    "print(largest_of_three(20, 10, 40))  # 30\n",
    "print(largest_of_three(30, 90, 10))  # 30\n"
   ]
  },
  {
   "cell_type": "markdown",
   "id": "dcfb28ed",
   "metadata": {},
   "source": [
    "# 9. Create a program that checks if a given string is a palindrome."
   ]
  },
  {
   "cell_type": "code",
   "execution_count": 18,
   "id": "d410a3fb",
   "metadata": {},
   "outputs": [
    {
     "name": "stdout",
     "output_type": "stream",
     "text": [
      "True\n",
      "True\n",
      "False\n"
     ]
    }
   ],
   "source": [
    "def is_palindrome(string):\n",
    "    reversed_string = string[::-1]\n",
    "    return string == reversed_string\n",
    "\n",
    "\n",
    "print(is_palindrome(\"racecar\"))  \n",
    "print(is_palindrome(\"madam\")) \n",
    "print(is_palindrome(\"hello\"))  \n"
   ]
  },
  {
   "cell_type": "markdown",
   "id": "f57a3682",
   "metadata": {},
   "source": [
    "# 10. Write a Python program to calculate the grade based on a student's score.\n"
   ]
  },
  {
   "cell_type": "code",
   "execution_count": 20,
   "id": "e6787fab",
   "metadata": {},
   "outputs": [
    {
     "name": "stdout",
     "output_type": "stream",
     "text": [
      "A\n",
      "B\n",
      "C\n",
      "D\n",
      "F\n"
     ]
    }
   ],
   "source": [
    "def calculate_grade(score):\n",
    "  \n",
    "\n",
    "  if score >= 90:\n",
    "    return \"A\"\n",
    "  elif score >= 80:\n",
    "    return \"B\"\n",
    "  elif score >= 70:\n",
    "    return \"C\"\n",
    "  elif score >= 60:\n",
    "    return \"D\"\n",
    "  else:\n",
    "    return \"F\"\n",
    "\n",
    "\n",
    "\n",
    "print(calculate_grade(95))  \n",
    "print(calculate_grade(85))  \n",
    "print(calculate_grade(75))  \n",
    "print(calculate_grade(65))  \n",
    "print(calculate_grade(55))  \n"
   ]
  },
  {
   "cell_type": "markdown",
   "id": "556ccf7c",
   "metadata": {},
   "source": [
    "# Nested If-Else Statements:"
   ]
  },
  {
   "cell_type": "markdown",
   "id": "5be11706",
   "metadata": {},
   "source": [
    "# 11. Write a program to find the largest among three numbers using nested if-else statements."
   ]
  },
  {
   "cell_type": "code",
   "execution_count": 21,
   "id": "e67912d5",
   "metadata": {},
   "outputs": [
    {
     "name": "stdout",
     "output_type": "stream",
     "text": [
      "7\n",
      "9\n",
      "9\n"
     ]
    }
   ],
   "source": [
    "def largest_of_three(a, b, c):\n",
    "   \n",
    "\n",
    "    if a >= b and a >= c:\n",
    "        return a\n",
    "    elif b >= a and b >= c:\n",
    "        return b\n",
    "    else:\n",
    "        return c\n",
    "\n",
    "\n",
    "\n",
    "print(largest_of_three(5, 7, 4))  \n",
    "print(largest_of_three(3, 9, 4))  \n",
    "print(largest_of_three(6, 7, 9))  \n"
   ]
  },
  {
   "cell_type": "markdown",
   "id": "6b3ac83f",
   "metadata": {},
   "source": [
    "# 12. Implement a program to determine if a triangle is equilateral, isosceles, or scalene."
   ]
  },
  {
   "cell_type": "code",
   "execution_count": 22,
   "id": "23acb6df",
   "metadata": {},
   "outputs": [
    {
     "name": "stdout",
     "output_type": "stream",
     "text": [
      "equilateral\n",
      "isosceles\n",
      "scalene\n"
     ]
    }
   ],
   "source": [
    "def triangle_type(a, b, c):\n",
    "  \n",
    "\n",
    "  if a == b and b == c:\n",
    "    return \"equilateral\"\n",
    "  elif a == b or b == c or c == a:\n",
    "    return \"isosceles\"\n",
    "  else:\n",
    "    return \"scalene\"\n",
    "\n",
    "\n",
    "\n",
    "print(triangle_type(10, 10, 10))  \n",
    "print(triangle_type(10, 10, 5)) \n",
    "print(triangle_type(10, 5, 3)) "
   ]
  },
  {
   "cell_type": "markdown",
   "id": "b5c65021",
   "metadata": {},
   "source": [
    "# 13. Develop a program that checks if a year is a leap year and also if it is a century year."
   ]
  },
  {
   "cell_type": "code",
   "execution_count": 36,
   "id": "9ca6ce47",
   "metadata": {},
   "outputs": [
    {
     "name": "stdout",
     "output_type": "stream",
     "text": [
      "True\n",
      "False\n",
      "False\n",
      "True\n"
     ]
    }
   ],
   "source": [
    "def is_leap_year(year):\n",
    "    if year % 4 == 0:\n",
    "        if year % 100 == 0:\n",
    "            if year % 400 == 0:\n",
    "                return True\n",
    "            else:\n",
    "                return False\n",
    "        else:\n",
    "            return True\n",
    "    else:\n",
    "        return False\n",
    "\n",
    "def is_century_year(year):\n",
    "    return year % 100 == 0\n",
    "\n",
    "print(is_leap_year(2024))  # True\n",
    "print(is_century_year(2024))  # False\n",
    "print(is_leap_year(2100))  # False\n",
    "print(is_century_year(2100))  # True\n"
   ]
  },
  {
   "cell_type": "markdown",
   "id": "9c468390",
   "metadata": {},
   "source": [
    "# 14. Write a Python script to determine if a number is positive, negative, or zero."
   ]
  },
  {
   "cell_type": "code",
   "execution_count": 37,
   "id": "27de870f",
   "metadata": {},
   "outputs": [
    {
     "name": "stdout",
     "output_type": "stream",
     "text": [
      "positive\n",
      "negative\n",
      "zero\n"
     ]
    }
   ],
   "source": [
    "def determine_number_type(number):\n",
    " \n",
    "  if number > 0:\n",
    "    return \"positive\"\n",
    "  elif number < 0:\n",
    "    return \"negative\"\n",
    "  else:\n",
    "    return \"zero\"\n",
    "\n",
    "\n",
    "\n",
    "print(determine_number_type(10))  \n",
    "print(determine_number_type(-5)) \n",
    "print(determine_number_type(0))  \n"
   ]
  },
  {
   "cell_type": "markdown",
   "id": "0bd1c0a0",
   "metadata": {},
   "source": [
    "# 15. Create a program to check if a person is a teenager (between 13 and 19 years old)."
   ]
  },
  {
   "cell_type": "code",
   "execution_count": 38,
   "id": "39ed558d",
   "metadata": {},
   "outputs": [
    {
     "name": "stdout",
     "output_type": "stream",
     "text": [
      "True\n",
      "True\n",
      "False\n"
     ]
    }
   ],
   "source": [
    "def is_teenager(age):\n",
    " \n",
    "  return 13 <= age <= 19\n",
    "\n",
    "\n",
    "\n",
    "print(is_teenager(13))  \n",
    "print(is_teenager(17))  \n",
    "print(is_teenager(20)) \n"
   ]
  },
  {
   "cell_type": "markdown",
   "id": "d9359d6e",
   "metadata": {},
   "source": [
    "# 16. Develop a program that determines the type of angle based on its measure (acute, obtuse, or right)."
   ]
  },
  {
   "cell_type": "code",
   "execution_count": 39,
   "id": "ec18dcc1",
   "metadata": {},
   "outputs": [
    {
     "name": "stdout",
     "output_type": "stream",
     "text": [
      "acute\n",
      "right\n",
      "obtuse\n"
     ]
    }
   ],
   "source": [
    "def determine_angle_type(angle_measure):\n",
    " \n",
    "\n",
    "  if angle_measure < 0 or angle_measure > 180:\n",
    "    raise ValueError(\"Angle measure must be between 0 and 180 degrees.\")\n",
    "\n",
    "  if angle_measure == 90:\n",
    "    return \"right\"\n",
    "  elif angle_measure < 90:\n",
    "    return \"acute\"\n",
    "  else:\n",
    "    return \"obtuse\"\n",
    "\n",
    "\n",
    "\n",
    "print(determine_angle_type(30))  \n",
    "print(determine_angle_type(90))  \n",
    "print(determine_angle_type(120))  \n"
   ]
  },
  {
   "cell_type": "markdown",
   "id": "a94919b6",
   "metadata": {},
   "source": [
    "# 17. Write a Python program to calculate the roots of a quadratic equation."
   ]
  },
  {
   "cell_type": "code",
   "execution_count": 40,
   "id": "fa193f83",
   "metadata": {},
   "outputs": [
    {
     "name": "stdout",
     "output_type": "stream",
     "text": [
      "(-1.0,)\n",
      "(1.0,)\n",
      "(1.0, -1.0)\n"
     ]
    }
   ],
   "source": [
    "import math\n",
    "\n",
    "def calculate_quadratic_roots(a, b, c):\n",
    "  \n",
    "\n",
    "      discriminant = b**2 - 4 * a * c\n",
    "      if discriminant < 0:\n",
    "        return None\n",
    "      elif discriminant == 0:\n",
    "        return (-b / (2 * a),)\n",
    "      else:\n",
    "        return ((-b + math.sqrt(discriminant)) / (2 * a), (-b - math.sqrt(discriminant)) / (2 * a))\n",
    "\n",
    "\n",
    "\n",
    "print(calculate_quadratic_roots(1, 2, 1))  \n",
    "print(calculate_quadratic_roots(1, -2, 1))  \n",
    "print(calculate_quadratic_roots(1, 0, -1))  \n"
   ]
  },
  {
   "cell_type": "markdown",
   "id": "964b8828",
   "metadata": {},
   "source": [
    "# 18. Implement a program to determine the day of the week based on a user-provided number (1 for Monday, 2 for Tuesday, etc.)."
   ]
  },
  {
   "cell_type": "code",
   "execution_count": 43,
   "id": "8c351992",
   "metadata": {},
   "outputs": [
    {
     "name": "stdout",
     "output_type": "stream",
     "text": [
      "Monday\n",
      "Tuesday\n",
      "Sunday\n"
     ]
    }
   ],
   "source": [
    "def determine_day_of_week(day_number):\n",
    "    days_of_week = [\"Monday\", \"Tuesday\", \"Wednesday\", \"Thursday\", \"Friday\", \"Saturday\", \"Sunday\"]\n",
    "    return days_of_week[day_number - 1]\n",
    "\n",
    "\n",
    "\n",
    "print(determine_day_of_week(1))  \n",
    "print(determine_day_of_week(2))  \n",
    "print(determine_day_of_week(7))  \n"
   ]
  },
  {
   "cell_type": "markdown",
   "id": "2f4ace82",
   "metadata": {},
   "source": [
    "# 19. Create a program that determines if a year is a leap year and also if it is evenly divisible by 400."
   ]
  },
  {
   "cell_type": "code",
   "execution_count": 45,
   "id": "5df83d3e",
   "metadata": {},
   "outputs": [
    {
     "name": "stdout",
     "output_type": "stream",
     "text": [
      "True\n",
      "False\n",
      "False\n",
      "False\n"
     ]
    }
   ],
   "source": [
    "def is_leap_year(year):\n",
    "    if year % 4 == 0:\n",
    "        if year % 100 == 0:\n",
    "            if year % 400 == 0:\n",
    "                return True\n",
    "            else:\n",
    "                return False\n",
    "        else:\n",
    "            return True\n",
    "    else:\n",
    "        return False\n",
    "def is_divisible_by_400(year):\n",
    "        return year % 400 == 0\n",
    "\n",
    "\n",
    "print(is_leap_year(2024))  \n",
    "print(is_divisible_by_400(2024))  \n",
    "print(is_leap_year(2100))  \n",
    "print(is_divisible_by_400(2100))  \n"
   ]
  },
  {
   "cell_type": "markdown",
   "id": "fb81294e",
   "metadata": {},
   "source": [
    "# 20. Develop a program that checks if a given number is prime or not using nested if-else statements."
   ]
  },
  {
   "cell_type": "code",
   "execution_count": 48,
   "id": "abce2887",
   "metadata": {},
   "outputs": [
    {
     "name": "stdout",
     "output_type": "stream",
     "text": [
      "False\n",
      "True\n",
      "False\n"
     ]
    }
   ],
   "source": [
    "def is_prime(number):\n",
    "  \n",
    "\n",
    "  if number <= 1:\n",
    "    return False\n",
    "\n",
    "  for i in range(2, int(number**0.5) + 1):\n",
    "    if number % i == 0:\n",
    "        return False\n",
    "    return True\n",
    "\n",
    "\n",
    "\n",
    "print(is_prime(10))  \n",
    "print(is_prime(11))  \n",
    "print(is_prime(100))  \n"
   ]
  },
  {
   "cell_type": "markdown",
   "id": "474dd576",
   "metadata": {},
   "source": [
    "# Elif Statements:"
   ]
  },
  {
   "cell_type": "markdown",
   "id": "35d39cf3",
   "metadata": {},
   "source": [
    "# 21. Write a Python program to assign grades based on different ranges of scores using elif statements."
   ]
  },
  {
   "cell_type": "code",
   "execution_count": 49,
   "id": "7354599d",
   "metadata": {},
   "outputs": [
    {
     "name": "stdout",
     "output_type": "stream",
     "text": [
      "A\n",
      "B\n",
      "C\n",
      "D\n",
      "F\n"
     ]
    }
   ],
   "source": [
    "def assing_grade(score):\n",
    "    if score >= 90:\n",
    "        return \"A\"\n",
    "    elif score >= 80:\n",
    "        return \"B\"\n",
    "    elif score >= 70:\n",
    "        return \"C\"\n",
    "    elif score >= 60:\n",
    "        return \"D\"\n",
    "    else:\n",
    "        return \"F\"\n",
    "    \n",
    "print(assing_grade(95)) \n",
    "print(assing_grade(85)) \n",
    "print(assing_grade(75)) \n",
    "print(assing_grade(65)) \n",
    "print(assing_grade(35)) "
   ]
  },
  {
   "cell_type": "markdown",
   "id": "40dde9ae",
   "metadata": {},
   "source": [
    "# 22. Implement a program to determine the type of a triangle based on its angles."
   ]
  },
  {
   "cell_type": "code",
   "execution_count": 51,
   "id": "c6c94128",
   "metadata": {},
   "outputs": [
    {
     "name": "stdout",
     "output_type": "stream",
     "text": [
      "Enter first angle: 60\n",
      "Enter second angle: 60\n",
      "Enter third angle: 60\n",
      "The triangle is: Equilateral Triangle\n"
     ]
    }
   ],
   "source": [
    "def determine_triangle_type(angle1, angle2, angle3):\n",
    "    if angle1 + angle2 + angle3 != 180:\n",
    "        return \"Not a valid triangle\"\n",
    "    if angle1 == 60 and angle2 == 60 and angle3 == 60:\n",
    "        return \"Equilateral Triangle\"\n",
    "    elif angle1 == angle2 or angle1 == angle3 or angle2 == angle3:\n",
    "        return \"Isosceles Triangle\"\n",
    "    else:\n",
    "        return \"Scalene Triangle\"\n",
    "\n",
    "\n",
    "angle1 = int(input(\"Enter first angle: \"))\n",
    "angle2 = int(input(\"Enter second angle: \"))\n",
    "angle3 = int(input(\"Enter third angle: \"))\n",
    "\n",
    "triangle_type = determine_triangle_type(angle1, angle2, angle3)\n",
    "print(\"The triangle is:\", triangle_type)\n"
   ]
  },
  {
   "cell_type": "markdown",
   "id": "12b8bde6",
   "metadata": {},
   "source": [
    "# 23. Develop a program to categorize a given person's BMI into underweight, normal, overweight, or obese using elif statements."
   ]
  },
  {
   "cell_type": "code",
   "execution_count": 52,
   "id": "91293019",
   "metadata": {},
   "outputs": [
    {
     "name": "stdout",
     "output_type": "stream",
     "text": [
      "Enter weight in kilograms: 25.5\n",
      "Enter height in meters: 5\n",
      "The person's BMI is 1.02 and is categorized as Underweight.\n"
     ]
    }
   ],
   "source": [
    "def calculate_bmi(weight, height):\n",
    "    return weight / (height * height)\n",
    "\n",
    "def categorize_bmi(bmi):\n",
    "    if bmi < 18.5:\n",
    "        return \"Underweight\"\n",
    "    elif 18.5 <= bmi < 24.9:\n",
    "        return \"Normal\"\n",
    "    elif 24.9 <= bmi < 29.9:\n",
    "        return \"Overweight\"\n",
    "    else:\n",
    "        return \"Obese\"\n",
    "\n",
    "\n",
    "weight = float(input(\"Enter weight in kilograms: \"))\n",
    "height = float(input(\"Enter height in meters: \"))\n",
    "\n",
    "person_bmi = calculate_bmi(weight, height)\n",
    "bmi_category = categorize_bmi(person_bmi)\n",
    "\n",
    "print(f\"The person's BMI is {person_bmi:.2f} and is categorized as {bmi_category}.\")\n"
   ]
  },
  {
   "cell_type": "markdown",
   "id": "21ff2012",
   "metadata": {},
   "source": [
    "# 24. Create a program that determines whether a given number is positive, negative, or zero using elif statements."
   ]
  },
  {
   "cell_type": "code",
   "execution_count": 56,
   "id": "23e12a71",
   "metadata": {},
   "outputs": [
    {
     "name": "stdout",
     "output_type": "stream",
     "text": [
      "Enter a number: 90000\n",
      "The number is Positive.\n"
     ]
    }
   ],
   "source": [
    "def check_number(number):\n",
    "    if number > 0:\n",
    "        return \"Positive\"\n",
    "    elif number < 0:\n",
    "        return \"Negative\"\n",
    "    else:\n",
    "        return \"Zero\"\n",
    "\n",
    "\n",
    "number = float(input(\"Enter a number: \"))\n",
    "result = check_number(number)\n",
    "print(f\"The number is {result}.\")\n"
   ]
  },
  {
   "cell_type": "markdown",
   "id": "d824ff2d",
   "metadata": {},
   "source": [
    "# 25. Write a Python script to determine the type of a character (uppercase, lowercase, or special) using elif statements."
   ]
  },
  {
   "cell_type": "code",
   "execution_count": 60,
   "id": "24178e3f",
   "metadata": {},
   "outputs": [
    {
     "name": "stdout",
     "output_type": "stream",
     "text": [
      "Enter a character: @\n",
      "The character is Special Character.\n"
     ]
    }
   ],
   "source": [
    "def check_character_type(char):\n",
    "    if char.isupper():\n",
    "        return \"Uppercase\"\n",
    "    elif char.islower():\n",
    "        return \"Lowercase\"\n",
    "    else:\n",
    "        return \"Special Character\"\n",
    "\n",
    "\n",
    "character = input(\"Enter a character: \")\n",
    "if len(character) == 1:\n",
    "    result = check_character_type(character)\n",
    "    print(f\"The character is {result}.\")\n",
    "else:\n",
    "    print(\"Please enter a single character.\")\n",
    "\n"
   ]
  },
  {
   "cell_type": "markdown",
   "id": "21b48b6d",
   "metadata": {},
   "source": [
    "# 26. Implement a program to calculate the discounted price based on different purchase amounts using elif statements."
   ]
  },
  {
   "cell_type": "code",
   "execution_count": 62,
   "id": "4e206d88",
   "metadata": {},
   "outputs": [
    {
     "name": "stdout",
     "output_type": "stream",
     "text": [
      "Enter the purchase amount: $173\n",
      "The discounted price is: $138.40\n"
     ]
    }
   ],
   "source": [
    "def calculate_discounted_price(purchase_amount):\n",
    "    if purchase_amount < 50:\n",
    "        discount = 0\n",
    "    elif purchase_amount < 100:\n",
    "        discount = 0.1\n",
    "    elif purchase_amount < 500:\n",
    "        discount = 0.2\n",
    "    else:\n",
    "        discount = 0.3\n",
    "\n",
    "    discounted_price = purchase_amount - (purchase_amount * discount)\n",
    "    return discounted_price\n",
    "\n",
    "\n",
    "purchase_amount = float(input(\"Enter the purchase amount: $\"))\n",
    "discounted_price = calculate_discounted_price(purchase_amount)\n",
    "print(f\"The discounted price is: ${discounted_price:.2f}\")\n"
   ]
  },
  {
   "cell_type": "markdown",
   "id": "5dc7720e",
   "metadata": {},
   "source": [
    "# 27. Develop a program to calculate the electricity bill based on different consumption slabs using elifstatements."
   ]
  },
  {
   "cell_type": "code",
   "execution_count": 63,
   "id": "511dba04",
   "metadata": {},
   "outputs": [
    {
     "name": "stdout",
     "output_type": "stream",
     "text": [
      "Enter the number of units consumed: 242\n",
      "The electricity bill for 242.0 units is: $210.40\n"
     ]
    }
   ],
   "source": [
    "def calculate_electricity_bill(units):\n",
    "    if units <= 50:\n",
    "        bill = units * 0.50\n",
    "    elif units <= 150:\n",
    "        bill = 25 + (units - 50) * 0.75\n",
    "    elif units <= 250:\n",
    "        bill = 100 + (units - 150) * 1.20\n",
    "    else:\n",
    "        bill = 220 + (units - 250) * 1.50\n",
    "\n",
    "    return bill\n",
    "\n",
    "\n",
    "units_consumed = float(input(\"Enter the number of units consumed: \"))\n",
    "total_bill = calculate_electricity_bill(units_consumed)\n",
    "print(f\"The electricity bill for {units_consumed} units is: ${total_bill:.2f}\")\n"
   ]
  },
  {
   "cell_type": "markdown",
   "id": "57b33d08",
   "metadata": {},
   "source": [
    "# 28. Create a program to determine the type of quadrilateral based on its angles and sides using elif statements."
   ]
  },
  {
   "cell_type": "code",
   "execution_count": 68,
   "id": "9ff74865",
   "metadata": {},
   "outputs": [
    {
     "name": "stdout",
     "output_type": "stream",
     "text": [
      "Enter first angle: 90\n",
      "Enter second angle: 90\n",
      "Enter third angle: 90\n",
      "Enter fourth angle: 90\n",
      "Enter first side length: 10\n",
      "Enter second side length: 10\n",
      "Enter third side length: 10\n",
      "Enter fourth side length: 10\n",
      "The quadrilateral is: Square\n"
     ]
    }
   ],
   "source": [
    "def determine_quadrilateral_type(angle1, angle2, angle3, angle4, side1, side2, side3, side4):\n",
    "    if angle1 == angle2 == angle3 == angle4 == 90:\n",
    "        if side1 == side2 == side3 == side4:\n",
    "            return \"Square\"\n",
    "        elif side1 == side3 and side2 == side4:\n",
    "            return \"Rectangle\"\n",
    "        else:\n",
    "            return \"Quadrilateral\"\n",
    "    else:\n",
    "        return \"Irregular Quadrilateral\"\n",
    "\n",
    "\n",
    "angle1 = int(input(\"Enter first angle: \"))\n",
    "angle2 = int(input(\"Enter second angle: \"))\n",
    "angle3 = int(input(\"Enter third angle: \"))\n",
    "angle4 = int(input(\"Enter fourth angle: \"))\n",
    "side1 = float(input(\"Enter first side length: \"))\n",
    "side2 = float(input(\"Enter second side length: \"))\n",
    "side3 = float(input(\"Enter third side length: \"))\n",
    "side4 = float(input(\"Enter fourth side length: \"))\n",
    "\n",
    "quadrilateral_type = determine_quadrilateral_type(angle1, angle2, angle3, angle4, side1, side2, side3, side4)\n",
    "print(\"The quadrilateral is:\", quadrilateral_type)\n",
    "\n"
   ]
  },
  {
   "cell_type": "markdown",
   "id": "44db3840",
   "metadata": {},
   "source": [
    "# 29. Write a Python script to determine the season based on a user-provided month using elif statements."
   ]
  },
  {
   "cell_type": "code",
   "execution_count": 69,
   "id": "336bb6fb",
   "metadata": {},
   "outputs": [
    {
     "name": "stdout",
     "output_type": "stream",
     "text": [
      "Enter the month (as a number): 2\n",
      "The season for month 2 is Winter.\n"
     ]
    }
   ],
   "source": [
    "def determine_season(month):\n",
    "    if month in (1, 2, 12):\n",
    "        return \"Winter\"\n",
    "    elif month in (3, 4, 5):\n",
    "        return \"Spring\"\n",
    "    elif month in (6, 7, 8):\n",
    "        return \"Summer\"\n",
    "    elif month in (9, 10, 11):\n",
    "        return \"Autumn\"\n",
    "    else:\n",
    "        return \"Invalid month\"\n",
    "\n",
    "# Example usage:\n",
    "month = int(input(\"Enter the month (as a number): \"))\n",
    "season = determine_season(month)\n",
    "\n",
    "if season != \"Invalid month\":\n",
    "    print(f\"The season for month {month} is {season}.\")\n",
    "else:\n",
    "    print(\"Please enter a valid month.\")\n"
   ]
  },
  {
   "cell_type": "markdown",
   "id": "259d146b",
   "metadata": {},
   "source": [
    "# 30. Implement a program to determine the type of a year (leap or common) and month (30 or 31 days) using elif statements."
   ]
  },
  {
   "cell_type": "code",
   "execution_count": 70,
   "id": "45282beb",
   "metadata": {},
   "outputs": [
    {
     "name": "stdout",
     "output_type": "stream",
     "text": [
      "Enter the year: 2024\n",
      "The year 2024 is a Leap Year.\n",
      "Enter the month (as a number): 4\n",
      "The month 4 has 30 days.\n"
     ]
    }
   ],
   "source": [
    "def determine_year_type(year):\n",
    "    if year % 4 == 0:\n",
    "        if year % 100 == 0:\n",
    "            if year % 400 == 0:\n",
    "                return \"Leap Year\"\n",
    "            else:\n",
    "                return \"Common Year\"\n",
    "        else:\n",
    "            return \"Leap Year\"\n",
    "    else:\n",
    "        return \"Common Year\"\n",
    "\n",
    "def determine_days_in_month(month):\n",
    "    if month in (4, 6, 9, 11):\n",
    "        return 30\n",
    "    elif month == 2:\n",
    "        return 28\n",
    "    else:\n",
    "        return 31\n",
    "\n",
    "\n",
    "year = int(input(\"Enter the year: \"))\n",
    "year_type = determine_year_type(year)\n",
    "print(f\"The year {year} is a {year_type}.\")\n",
    "\n",
    "month = int(input(\"Enter the month (as a number): \"))\n",
    "days_in_month = determine_days_in_month(month)\n",
    "print(f\"The month {month} has {days_in_month} days.\")\n"
   ]
  },
  {
   "cell_type": "markdown",
   "id": "e6cf390b",
   "metadata": {},
   "source": [
    "# Basic Level:"
   ]
  },
  {
   "cell_type": "markdown",
   "id": "7072d910",
   "metadata": {},
   "source": [
    "# 1. Write a Python program that checks if a given number is positive, negative, or zero."
   ]
  },
  {
   "cell_type": "code",
   "execution_count": 71,
   "id": "c6ac7a12",
   "metadata": {},
   "outputs": [
    {
     "name": "stdout",
     "output_type": "stream",
     "text": [
      "Enter a number: 99\n",
      "The number is positive.\n"
     ]
    }
   ],
   "source": [
    "def check_number(num):\n",
    "    if num > 0:\n",
    "        print(\"The number is positive.\")\n",
    "    elif num < 0:\n",
    "        print(\"The number is negative.\")\n",
    "    else:\n",
    "        print(\"The number is zero.\")\n",
    "\n",
    "\n",
    "number = float(input(\"Enter a number: \"))\n",
    "check_number(number)\n"
   ]
  },
  {
   "cell_type": "markdown",
   "id": "a98b13ad",
   "metadata": {},
   "source": [
    "# 2. Create a program to determine if a person is eligible to vote based on their age."
   ]
  },
  {
   "cell_type": "code",
   "execution_count": 72,
   "id": "cb6f8c88",
   "metadata": {},
   "outputs": [
    {
     "name": "stdout",
     "output_type": "stream",
     "text": [
      "Enter your age: 22\n",
      "You are eligible to vote.\n"
     ]
    }
   ],
   "source": [
    "def check_voter_eligibility(age):\n",
    "    if age >= 18:\n",
    "        print(\"You are eligible to vote.\")\n",
    "    else:\n",
    "        print(\"You are not eligible to vote yet.\")\n",
    "\n",
    "\n",
    "age = int(input(\"Enter your age: \"))\n",
    "check_voter_eligibility(age)\n"
   ]
  },
  {
   "cell_type": "markdown",
   "id": "640b5edd",
   "metadata": {},
   "source": [
    "# 3. Write a program to find the maximum of two given numbers using conditional statements."
   ]
  },
  {
   "cell_type": "code",
   "execution_count": 73,
   "id": "ede3281f",
   "metadata": {},
   "outputs": [
    {
     "name": "stdout",
     "output_type": "stream",
     "text": [
      "Enter the first number: 30\n",
      "Enter the second number: 90\n",
      "The maximum of 30.0 and 90.0 is 90.0.\n"
     ]
    }
   ],
   "source": [
    "def find_maximum(num1, num2):\n",
    "    if num1 > num2:\n",
    "        return num1\n",
    "    else:\n",
    "        return num2\n",
    "\n",
    "\n",
    "number1 = float(input(\"Enter the first number: \"))\n",
    "number2 = float(input(\"Enter the second number: \"))\n",
    "maximum = find_maximum(number1, number2)\n",
    "print(f\"The maximum of {number1} and {number2} is {maximum}.\")\n"
   ]
  },
  {
   "cell_type": "markdown",
   "id": "8aca906d",
   "metadata": {},
   "source": [
    "# 4. Develop a program that calculates the grade of a student based on their exam score."
   ]
  },
  {
   "cell_type": "code",
   "execution_count": 74,
   "id": "4b5ef226",
   "metadata": {},
   "outputs": [
    {
     "name": "stdout",
     "output_type": "stream",
     "text": [
      "Enter the student's exam score: 99\n",
      "The grade for the score 99.0 is A.\n"
     ]
    }
   ],
   "source": [
    "def calculate_grade(score):\n",
    "    if score >= 90:\n",
    "        return \"A\"\n",
    "    elif score >= 80:\n",
    "        return \"B\"\n",
    "    elif score >= 70:\n",
    "        return \"C\"\n",
    "    elif score >= 60:\n",
    "        return \"D\"\n",
    "    else:\n",
    "        return \"F\"\n",
    "\n",
    "# Example \n",
    "exam_score = float(input(\"Enter the student's exam score: \"))\n",
    "grade = calculate_grade(exam_score)\n",
    "print(f\"The grade for the score {exam_score} is {grade}.\")\n"
   ]
  },
  {
   "cell_type": "markdown",
   "id": "0282b068",
   "metadata": {},
   "source": [
    "# 5. Create a program that checks if a year is a leap year or not."
   ]
  },
  {
   "cell_type": "code",
   "execution_count": 75,
   "id": "545c1007",
   "metadata": {},
   "outputs": [
    {
     "name": "stdout",
     "output_type": "stream",
     "text": [
      "Enter a year: 2024\n",
      "The year 2024 is a leap year.\n"
     ]
    }
   ],
   "source": [
    "def is_leap_year(year):\n",
    "    if year % 4 == 0:\n",
    "        if year % 100 == 0:\n",
    "            if year % 400 == 0:\n",
    "                return True\n",
    "            else:\n",
    "                return False\n",
    "        else:\n",
    "            return True\n",
    "    else:\n",
    "        return False\n",
    "\n",
    "\n",
    "year = int(input(\"Enter a year: \"))\n",
    "if is_leap_year(year):\n",
    "    print(f\"The year {year} is a leap year.\")\n",
    "else:\n",
    "    print(f\"The year {year} is not a leap year.\")\n"
   ]
  },
  {
   "cell_type": "markdown",
   "id": "faf308e9",
   "metadata": {},
   "source": [
    "# 6. Write a program to classify a triangle based on its sides' lengths."
   ]
  },
  {
   "cell_type": "code",
   "execution_count": 79,
   "id": "c8938fb8",
   "metadata": {},
   "outputs": [
    {
     "name": "stdout",
     "output_type": "stream",
     "text": [
      "Enter the length of the first side: 26\n",
      "Enter the length of the second side: 26\n",
      "Enter the length of the third side: 26\n",
      "The triangle is classified as: Equilateral Triangle.\n"
     ]
    }
   ],
   "source": [
    "def classify_triangle(side1, side2, side3):\n",
    "    if side1 == side2 == side3:\n",
    "        return \"Equilateral Triangle\"\n",
    "    elif side1 == side2 or side1 == side3 or side2 == side3:\n",
    "        return \"Isosceles Triangle\"\n",
    "    else:\n",
    "        return \"Scalene Triangle\"\n",
    "\n",
    "\n",
    "side1 = float(input(\"Enter the length of the first side: \"))\n",
    "side2 = float(input(\"Enter the length of the second side: \"))\n",
    "side3 = float(input(\"Enter the length of the third side: \"))\n",
    "\n",
    "triangle_type = classify_triangle(side1, side2, side3)\n",
    "print(f\"The triangle is classified as: {triangle_type}.\")\n"
   ]
  },
  {
   "cell_type": "markdown",
   "id": "63fc89c0",
   "metadata": {},
   "source": [
    "# 7. Build a program that determines the largest of three given numbers."
   ]
  },
  {
   "cell_type": "code",
   "execution_count": 83,
   "id": "77050a0a",
   "metadata": {},
   "outputs": [
    {
     "name": "stdout",
     "output_type": "stream",
     "text": [
      "The largest of the three numbers 10, 20, and 30 is 30.\n"
     ]
    }
   ],
   "source": [
    "def largest_of_three(a, b, c):\n",
    "  \n",
    "\n",
    "  if a >= b and a >= c:\n",
    "    return a\n",
    "  elif b >= a and b >= c:\n",
    "    return b\n",
    "  else:\n",
    "    return c\n",
    "\n",
    "\n",
    "\n",
    "a = 10\n",
    "b = 20\n",
    "c = 30\n",
    "\n",
    "largest_number = largest_of_three(a, b, c)\n",
    "\n",
    "print(f\"The largest of the three numbers {a}, {b}, and {c} is {largest_number}.\")\n"
   ]
  },
  {
   "cell_type": "markdown",
   "id": "99075ef8",
   "metadata": {},
   "source": [
    "# 8. Develop a program that checks whether a character is a vowel or a consonant."
   ]
  },
  {
   "cell_type": "code",
   "execution_count": 84,
   "id": "0a6448f5",
   "metadata": {},
   "outputs": [
    {
     "name": "stdout",
     "output_type": "stream",
     "text": [
      "Enter a character: i\n",
      "The character 'i' is a Vowel.\n"
     ]
    }
   ],
   "source": [
    "def check_vowel_or_consonant(character):\n",
    "    vowels = \"aeiouAEIOU\"\n",
    "    if character.isalpha() and len(character) == 1:\n",
    "        if character in vowels:\n",
    "            return \"Vowel\"\n",
    "        else:\n",
    "            return \"Consonant\"\n",
    "    else:\n",
    "        return \"Not a valid alphabet character\"\n",
    "\n",
    "\n",
    "char = input(\"Enter a character: \")\n",
    "result = check_vowel_or_consonant(char)\n",
    "print(f\"The character '{char}' is a {result}.\")\n"
   ]
  },
  {
   "cell_type": "markdown",
   "id": "930911fe",
   "metadata": {},
   "source": [
    "# 9. Create a program to calculate the total cost of a shopping cart based on discounts."
   ]
  },
  {
   "cell_type": "code",
   "execution_count": 85,
   "id": "bdb2040d",
   "metadata": {},
   "outputs": [
    {
     "name": "stdout",
     "output_type": "stream",
     "text": [
      "The total cost after a 10% discount is: $148.50\n"
     ]
    }
   ],
   "source": [
    "def calculate_total_cost(cart_items, discount_percent):\n",
    "    total_cost = sum(cart_items)\n",
    "    discount_amount = total_cost * (discount_percent / 100)\n",
    "    total_cost_after_discount = total_cost - discount_amount\n",
    "    return total_cost_after_discount\n",
    "\n",
    "\n",
    "cart_items = [50, 30, 25, 40, 20]  # Example prices of items in the shopping cart\n",
    "discount_percent = 10  # Example discount percentage\n",
    "\n",
    "total_cost = calculate_total_cost(cart_items, discount_percent)\n",
    "print(f\"The total cost after a {discount_percent}% discount is: ${total_cost:.2f}\")\n"
   ]
  },
  {
   "cell_type": "markdown",
   "id": "4d9b6a75",
   "metadata": {},
   "source": [
    "# 10. Write a program that checks if a given number is even or odd."
   ]
  },
  {
   "cell_type": "code",
   "execution_count": 86,
   "id": "9b7737c0",
   "metadata": {},
   "outputs": [
    {
     "name": "stdout",
     "output_type": "stream",
     "text": [
      "Enter a number: 534\n",
      "The number 534 is Even.\n"
     ]
    }
   ],
   "source": [
    "def check_even_or_odd(number):\n",
    "    if number % 2 == 0:\n",
    "        return \"Even\"\n",
    "    else:\n",
    "        return \"Odd\"\n",
    "\n",
    "\n",
    "number = int(input(\"Enter a number: \"))\n",
    "result = check_even_or_odd(number)\n",
    "print(f\"The number {number} is {result}.\")\n"
   ]
  },
  {
   "cell_type": "markdown",
   "id": "a9305e41",
   "metadata": {},
   "source": [
    "# Intermediate Level:"
   ]
  },
  {
   "cell_type": "markdown",
   "id": "4a518761",
   "metadata": {},
   "source": [
    "11. Write a program that calculates the roots of a quadratic equation ."
   ]
  },
  {
   "cell_type": "code",
   "execution_count": 88,
   "id": "d6df6d73",
   "metadata": {},
   "outputs": [
    {
     "name": "stdout",
     "output_type": "stream",
     "text": [
      "Enter the coefficient of x^2: 1\n",
      "Enter the coefficient of x: 2\n",
      "Enter the constant term: 3\n",
      "The roots of the quadratic equation are (-1+1.4142135623730951j) and (-1-1.4142135623730951j).\n"
     ]
    }
   ],
   "source": [
    "import cmath\n",
    "\n",
    "def calculate_roots(a, b, c):\n",
    "    discriminant = (b ** 2) - (4 * a * c)\n",
    "    root1 = (-b + cmath.sqrt(discriminant)) / (2 * a)\n",
    "    root2 = (-b - cmath.sqrt(discriminant)) / (2 * a)\n",
    "    return root1, root2\n",
    "\n",
    "\n",
    "a = float(input(\"Enter the coefficient of x^2: \"))\n",
    "b = float(input(\"Enter the coefficient of x: \"))\n",
    "c = float(input(\"Enter the constant term: \"))\n",
    "\n",
    "root1, root2 = calculate_roots(a, b, c)\n",
    "print(f\"The roots of the quadratic equation are {root1} and {root2}.\")\n"
   ]
  },
  {
   "cell_type": "markdown",
   "id": "5e138f41",
   "metadata": {},
   "source": [
    "# 12. Create a program that determines the day of the week based on the day number (1-7)."
   ]
  },
  {
   "cell_type": "code",
   "execution_count": 89,
   "id": "83ef34d4",
   "metadata": {},
   "outputs": [
    {
     "name": "stdout",
     "output_type": "stream",
     "text": [
      "Enter the day number (1-7): 2\n",
      "The day of the week for day number 2 is Tuesday.\n"
     ]
    }
   ],
   "source": [
    "def determine_day_of_week(day_number):\n",
    "    days_of_week = {\n",
    "        1: \"Monday\",\n",
    "        2: \"Tuesday\",\n",
    "        3: \"Wednesday\",\n",
    "        4: \"Thursday\",\n",
    "        5: \"Friday\",\n",
    "        6: \"Saturday\",\n",
    "        7: \"Sunday\"\n",
    "    }\n",
    "\n",
    "    if day_number in days_of_week:\n",
    "        return days_of_week[day_number]\n",
    "    else:\n",
    "        return \"Invalid day number. Please enter a number between 1 and 7.\"\n",
    "\n",
    "\n",
    "day_number = int(input(\"Enter the day number (1-7): \"))\n",
    "day_of_week = determine_day_of_week(day_number)\n",
    "print(f\"The day of the week for day number {day_number} is {day_of_week}.\")\n"
   ]
  },
  {
   "cell_type": "markdown",
   "id": "1c3320ef",
   "metadata": {},
   "source": [
    "# 13. Develop a program that calculates the factorial of a given number using recursion."
   ]
  },
  {
   "cell_type": "code",
   "execution_count": 90,
   "id": "e06be480",
   "metadata": {},
   "outputs": [
    {
     "name": "stdout",
     "output_type": "stream",
     "text": [
      "Enter a number: 5\n",
      "The factorial of 5 is 120.\n"
     ]
    }
   ],
   "source": [
    "def factorial(n):\n",
    "    if n == 0 or n == 1:\n",
    "        return 1\n",
    "    else:\n",
    "        return n * factorial(n - 1)\n",
    "\n",
    "\n",
    "number = int(input(\"Enter a number: \"))\n",
    "result = factorial(number)\n",
    "print(f\"The factorial of {number} is {result}.\")\n"
   ]
  },
  {
   "cell_type": "markdown",
   "id": "3d1e7bc3",
   "metadata": {},
   "source": [
    "# 14. Write a program to find the largest among three numbers without using the `max()` function."
   ]
  },
  {
   "cell_type": "code",
   "execution_count": 91,
   "id": "107ad6e4",
   "metadata": {},
   "outputs": [
    {
     "name": "stdout",
     "output_type": "stream",
     "text": [
      "Enter the first number: 2\n",
      "Enter the second number: 4\n",
      "Enter the third number: 6\n",
      "The largest number among 2.0, 4.0, and 6.0 is 6.0.\n"
     ]
    }
   ],
   "source": [
    "def find_largest(num1, num2, num3):\n",
    "    if num1 >= num2 and num1 >= num3:\n",
    "        return num1\n",
    "    elif num2 >= num1 and num2 >= num3:\n",
    "        return num2\n",
    "    else:\n",
    "        return num3\n",
    "\n",
    "\n",
    "num1 = float(input(\"Enter the first number: \"))\n",
    "num2 = float(input(\"Enter the second number: \"))\n",
    "num3 = float(input(\"Enter the third number: \"))\n",
    "\n",
    "largest = find_largest(num1, num2, num3)\n",
    "print(f\"The largest number among {num1}, {num2}, and {num3} is {largest}.\")\n"
   ]
  },
  {
   "cell_type": "markdown",
   "id": "4e5cafbb",
   "metadata": {},
   "source": [
    "# 15. Create a program that simulates a basic ATM transaction menu."
   ]
  },
  {
   "cell_type": "code",
   "execution_count": 92,
   "id": "5ed32f24",
   "metadata": {},
   "outputs": [
    {
     "name": "stdout",
     "output_type": "stream",
     "text": [
      "\n",
      "===== ATM Transaction Menu =====\n",
      "1. Check Balance\n",
      "2. Deposit Money\n",
      "3. Withdraw Money\n",
      "4. Exit\n",
      "Enter your choice: 1\n",
      "Your current balance is: $1000\n",
      "\n",
      "===== ATM Transaction Menu =====\n",
      "1. Check Balance\n",
      "2. Deposit Money\n",
      "3. Withdraw Money\n",
      "4. Exit\n",
      "Enter your choice: 2\n",
      "Enter the amount to deposit: $200000\n",
      "$200000.0 has been deposited into your account.\n",
      "\n",
      "===== ATM Transaction Menu =====\n",
      "1. Check Balance\n",
      "2. Deposit Money\n",
      "3. Withdraw Money\n",
      "4. Exit\n",
      "Enter your choice: 1\n",
      "Your current balance is: $201000.0\n",
      "\n",
      "===== ATM Transaction Menu =====\n",
      "1. Check Balance\n",
      "2. Deposit Money\n",
      "3. Withdraw Money\n",
      "4. Exit\n",
      "Enter your choice: 4\n",
      "Thank you for using the ATM. Goodbye!\n"
     ]
    }
   ],
   "source": [
    "def check_balance(balance):\n",
    "    print(f\"Your current balance is: ${balance}\")\n",
    "\n",
    "def deposit(balance, amount):\n",
    "    balance += amount\n",
    "    print(f\"${amount} has been deposited into your account.\")\n",
    "    return balance\n",
    "\n",
    "def withdraw(balance, amount):\n",
    "    if amount > balance:\n",
    "        print(\"Insufficient funds. Withdrawal cannot be processed.\")\n",
    "    else:\n",
    "        balance -= amount\n",
    "        print(f\"${amount} has been withdrawn from your account.\")\n",
    "    return balance\n",
    "\n",
    "\n",
    "initial_balance = 1000  \n",
    "balance = initial_balance\n",
    "\n",
    "while True:\n",
    "    print(\"\\n===== ATM Transaction Menu =====\")\n",
    "    print(\"1. Check Balance\")\n",
    "    print(\"2. Deposit Money\")\n",
    "    print(\"3. Withdraw Money\")\n",
    "    print(\"4. Exit\")\n",
    "\n",
    "    choice = input(\"Enter your choice: \")\n",
    "\n",
    "    if choice == '1':\n",
    "        check_balance(balance)\n",
    "    elif choice == '2':\n",
    "        amount = float(input(\"Enter the amount to deposit: $\"))\n",
    "        balance = deposit(balance, amount)\n",
    "    elif choice == '3':\n",
    "        amount = float(input(\"Enter the amount to withdraw: $\"))\n",
    "        balance = withdraw(balance, amount)\n",
    "    elif choice == '4':\n",
    "        print(\"Thank you for using the ATM. Goodbye!\")\n",
    "        break\n",
    "    else:\n",
    "        print(\"Invalid choice. Please select a valid option.\")\n"
   ]
  },
  {
   "cell_type": "markdown",
   "id": "f9de2b5c",
   "metadata": {},
   "source": [
    "# 16. Build a program that checks if a given string is a palindrome or not."
   ]
  },
  {
   "cell_type": "code",
   "execution_count": 95,
   "id": "be94b7c1",
   "metadata": {},
   "outputs": [
    {
     "name": "stdout",
     "output_type": "stream",
     "text": [
      "Enter a string: madam\n",
      "The string 'madam' is a palindrome.\n"
     ]
    }
   ],
   "source": [
    "def is_palindrome(s):\n",
    "    s = s.lower()\n",
    "    s = ''.join(e for e in s if e.isalnum())\n",
    "    return s == s[::-1]\n",
    "\n",
    "\n",
    "string = input(\"Enter a string: \")\n",
    "if is_palindrome(string):\n",
    "    print(f\"The string '{string}' is a palindrome.\")\n",
    "else:\n",
    "    print(f\"The string '{string}' is not a palindrome.\")\n"
   ]
  },
  {
   "cell_type": "markdown",
   "id": "ac33806a",
   "metadata": {},
   "source": [
    "# 17. Write a program that calculates the average of a list of numbers, excluding the smallest and largest values."
   ]
  },
  {
   "cell_type": "code",
   "execution_count": 96,
   "id": "f8bdef9d",
   "metadata": {},
   "outputs": [
    {
     "name": "stdout",
     "output_type": "stream",
     "text": [
      "The average of the list is: 9.20\n"
     ]
    }
   ],
   "source": [
    "def calculate_average(numbers):\n",
    "    if len(numbers) < 3:\n",
    "        return \"List should contain at least three numbers.\"\n",
    "    else:\n",
    "        numbers.sort()\n",
    "        trimmed_list = numbers[1:-1]\n",
    "        return sum(trimmed_list) / len(trimmed_list)\n",
    "\n",
    "\n",
    "numbers = [12, 7, 9, 14, 8, 6, 10]\n",
    "average = calculate_average(numbers)\n",
    "print(f\"The average of the list is: {average:.2f}\")\n"
   ]
  },
  {
   "cell_type": "markdown",
   "id": "a2b36c34",
   "metadata": {},
   "source": [
    "# 18. Develop a program that converts a given temperature from Celsius to Fahrenheit."
   ]
  },
  {
   "cell_type": "code",
   "execution_count": 97,
   "id": "8eeb37e6",
   "metadata": {},
   "outputs": [
    {
     "name": "stdout",
     "output_type": "stream",
     "text": [
      "Enter the temperature in Celsius: 3\n",
      "3.0°C is equal to 37.4°F.\n"
     ]
    }
   ],
   "source": [
    "def celsius_to_fahrenheit(celsius):\n",
    "    return (celsius * 9/5) + 32\n",
    "\n",
    "\n",
    "celsius_temp = float(input(\"Enter the temperature in Celsius: \"))\n",
    "fahrenheit_temp = celsius_to_fahrenheit(celsius_temp)\n",
    "print(f\"{celsius_temp}°C is equal to {fahrenheit_temp}°F.\")\n"
   ]
  },
  {
   "cell_type": "markdown",
   "id": "3fc1e03f",
   "metadata": {},
   "source": [
    "# 19. Create a program that simulates a basic calculator for addition, subtraction, multiplication, and division."
   ]
  },
  {
   "cell_type": "code",
   "execution_count": 98,
   "id": "ba0a151a",
   "metadata": {},
   "outputs": [
    {
     "name": "stdout",
     "output_type": "stream",
     "text": [
      "Select operation -\n",
      "1. Add\n",
      "2. Subtract\n",
      "3. Multiply\n",
      "4. Divide\n",
      "\n",
      "Enter choice(1/2/3/4): 1\n",
      "Enter first number: 3\n",
      "Enter second number: 7\n",
      "3.0 + 7.0 = 10.0\n"
     ]
    }
   ],
   "source": [
    "def add(x, y):\n",
    "    return x + y\n",
    "\n",
    "def subtract(x, y):\n",
    "    return x - y\n",
    "\n",
    "def multiply(x, y):\n",
    "    return x * y\n",
    "\n",
    "def divide(x, y):\n",
    "    if y == 0:\n",
    "        return \"Error! Division by zero is not allowed.\"\n",
    "    else:\n",
    "        return x / y\n",
    "\n",
    "\n",
    "print(\"Select operation -\\n1. Add\\n2. Subtract\\n3. Multiply\\n4. Divide\\n\")\n",
    "\n",
    "while True:\n",
    "    choice = input(\"Enter choice(1/2/3/4): \")\n",
    "\n",
    "    if choice in ('1', '2', '3', '4'):\n",
    "        num1 = float(input(\"Enter first number: \"))\n",
    "        num2 = float(input(\"Enter second number: \"))\n",
    "\n",
    "        if choice == '1':\n",
    "            print(f\"{num1} + {num2} = {add(num1, num2)}\")\n",
    "        elif choice == '2':\n",
    "            print(f\"{num1} - {num2} = {subtract(num1, num2)}\")\n",
    "        elif choice == '3':\n",
    "            print(f\"{num1} * {num2} = {multiply(num1, num2)}\")\n",
    "        elif choice == '4':\n",
    "            print(f\"{num1} / {num2} = {divide(num1, num2)}\")\n",
    "        break\n",
    "    else:\n",
    "        print(\"Invalid Input\")\n"
   ]
  },
  {
   "cell_type": "markdown",
   "id": "2fea1568",
   "metadata": {},
   "source": [
    "# 20. Write a program that determines the roots of a cubic equation using the Cardano formula."
   ]
  },
  {
   "cell_type": "code",
   "execution_count": 100,
   "id": "dc4e2b88",
   "metadata": {},
   "outputs": [
    {
     "name": "stdout",
     "output_type": "stream",
     "text": [
      "Enter the coefficient of x^3: 1\n",
      "Enter the coefficient of x^2: 2\n",
      "Enter the coefficient of x: 3\n",
      "Enter the constant term: 4\n",
      "The roots of the cubic equation are (0.42697045480630835+1.199502715028224j).\n"
     ]
    }
   ],
   "source": [
    "import math\n",
    "\n",
    "def calculate_cubic_roots(a, b, c, d):\n",
    "    p = (3 * a * c - b ** 2) / (3 * a ** 2)\n",
    "    q = (2 * b ** 3 - 9 * a * b * c + 27 * a ** 2 * d) / (27 * a ** 3)\n",
    "    delta = (q ** 2) / 4 + (p ** 3) / 27\n",
    "\n",
    "    if delta > 0:\n",
    "        u = (-q / 2 + math.sqrt(delta)) ** (1 / 3)\n",
    "        v = (-q / 2 - math.sqrt(delta)) ** (1 / 3)\n",
    "        root1 = u + v - b / (3 * a)\n",
    "        return root1\n",
    "    elif delta == 0:\n",
    "        root1 = -2 * math.pow(q / 2, 1 / 3) - b / (3 * a)\n",
    "        root2 = math.pow(q / 2, 1 / 3) - b / (3 * a)\n",
    "        return root1, root2\n",
    "    else:\n",
    "        t = math.acos(-(q / 2) / math.sqrt(-p ** 3 / 27))\n",
    "        root1 = 2 * math.sqrt(-p / 3) * math.cos(t / 3) - b / (3 * a)\n",
    "        root2 = 2 * math.sqrt(-p / 3) * math.cos((t + 2 * math.pi) / 3) - b / (3 * a)\n",
    "        root3 = 2 * math.sqrt(-p / 3) * math.cos((t + 4 * math.pi) / 3) - b / (3 * a)\n",
    "        return root1, root2, root3\n",
    "\n",
    "\n",
    "a = float(input(\"Enter the coefficient of x^3: \"))\n",
    "b = float(input(\"Enter the coefficient of x^2: \"))\n",
    "c = float(input(\"Enter the coefficient of x: \"))\n",
    "d = float(input(\"Enter the constant term: \"))\n",
    "\n",
    "roots = calculate_cubic_roots(a, b, c, d)\n",
    "print(f\"The roots of the cubic equation are {roots}.\")\n"
   ]
  },
  {
   "cell_type": "markdown",
   "id": "a53af1c0",
   "metadata": {},
   "source": [
    "# Advanced Level:"
   ]
  },
  {
   "cell_type": "markdown",
   "id": "0047ee0f",
   "metadata": {},
   "source": [
    "# 21. Create a program that calculates the income tax based on the user's income and tax brackets."
   ]
  },
  {
   "cell_type": "code",
   "execution_count": 104,
   "id": "b09362c4",
   "metadata": {},
   "outputs": [
    {
     "name": "stdout",
     "output_type": "stream",
     "text": [
      "Enter your income: $100000000000000000000000000000000000\n",
      "The income tax for an income of $99999999999999996863366107917975552.00 is $36999999999999996256901289610313728.00.\n"
     ]
    }
   ],
   "source": [
    "def calculate_income_tax(income):\n",
    "    if income <= 9875:\n",
    "        tax = income * 0.1\n",
    "    elif income <= 40125:\n",
    "        tax = 987.5 + (income - 9875) * 0.12\n",
    "    elif income <= 85525:\n",
    "        tax = 4617.5 + (income - 40125) * 0.22\n",
    "    elif income <= 163300:\n",
    "        tax = 14605.5 + (income - 85525) * 0.24\n",
    "    elif income <= 207350:\n",
    "        tax = 33271.5 + (income - 163300) * 0.32\n",
    "    elif income <= 518400:\n",
    "        tax = 47367.5 + (income - 207350) * 0.35\n",
    "    else:\n",
    "        tax = 156235 + (income - 518400) * 0.37\n",
    "    return tax\n",
    "\n",
    "# Example usage:\n",
    "income = float(input(\"Enter your income: $\"))\n",
    "tax_amount = calculate_income_tax(income)\n",
    "print(f\"The income tax for an income of ${income:.2f} is ${tax_amount:.2f}.\")\n"
   ]
  },
  {
   "cell_type": "markdown",
   "id": "9ba9a27f",
   "metadata": {},
   "source": [
    "# 22. Write a program that simulates a rock-paper-scissors game against the computer."
   ]
  },
  {
   "cell_type": "code",
   "execution_count": 105,
   "id": "94605cec",
   "metadata": {},
   "outputs": [
    {
     "name": "stdout",
     "output_type": "stream",
     "text": [
      "Enter your choice (rock/paper/scissors): paper\n",
      "Computer chooses paper.\n",
      "It's a tie!\n"
     ]
    }
   ],
   "source": [
    "import random\n",
    "\n",
    "def determine_winner(player, computer):\n",
    "    if player == computer:\n",
    "        return \"It's a tie!\"\n",
    "    elif (player == \"rock\" and computer == \"scissors\") or (player == \"scissors\" and computer == \"paper\") or (player == \"paper\" and computer == \"rock\"):\n",
    "        return \"You win!\"\n",
    "    else:\n",
    "        return \"Computer wins!\"\n",
    "\n",
    "# Choices for the player and the computer\n",
    "choices = [\"rock\", \"paper\", \"scissors\"]\n",
    "\n",
    "\n",
    "player_choice = input(\"Enter your choice (rock/paper/scissors): \").lower()\n",
    "\n",
    "\n",
    "computer_choice = random.choice(choices)\n",
    "\n",
    "print(f\"Computer chooses {computer_choice}.\")\n",
    "\n",
    "\n",
    "result = determine_winner(player_choice, computer_choice)\n",
    "print(result)\n"
   ]
  },
  {
   "cell_type": "markdown",
   "id": "1fc15686",
   "metadata": {},
   "source": [
    "# 23. Develop a program that generates a random password based on user preferences (length, complexity)."
   ]
  },
  {
   "cell_type": "code",
   "execution_count": 107,
   "id": "8305a5d6",
   "metadata": {},
   "outputs": [
    {
     "name": "stdout",
     "output_type": "stream",
     "text": [
      "Enter the length of the password: 10\n",
      "Enter the complexity level (low/medium/high): high\n",
      "Generated Password: Ssx8TNk%66\n"
     ]
    }
   ],
   "source": [
    "import random\n",
    "import string\n",
    "\n",
    "def generate_password(length, complexity):\n",
    "    if complexity == \"low\":\n",
    "        characters = string.ascii_letters + string.digits\n",
    "    elif complexity == \"medium\":\n",
    "        characters = string.ascii_letters + string.digits + string.punctuation\n",
    "    elif complexity == \"high\":\n",
    "        characters = string.ascii_letters + string.digits + string.punctuation + string.ascii_uppercase + string.ascii_lowercase\n",
    "    else:\n",
    "        return \"Invalid complexity level. Please choose low, medium, or high.\"\n",
    "\n",
    "    password = ''.join(random.choice(characters) for _ in range(length))\n",
    "    return password\n",
    "\n",
    "\n",
    "length = int(input(\"Enter the length of the password: \"))\n",
    "complexity = input(\"Enter the complexity level (low/medium/high): \").lower()\n",
    "\n",
    "password = generate_password(length, complexity)\n",
    "print(f\"Generated Password: {password}\")\n"
   ]
  },
  {
   "cell_type": "markdown",
   "id": "aa314ccb",
   "metadata": {},
   "source": [
    "# 24. Create a program that implements a simple text-based adventure game with branching scenarios."
   ]
  },
  {
   "cell_type": "code",
   "execution_count": 108,
   "id": "7583b7b2",
   "metadata": {},
   "outputs": [
    {
     "name": "stdout",
     "output_type": "stream",
     "text": [
      "Welcome to the Text Adventure Game!\n",
      "You are in a dark room. There are two doors, one to your left and one to your right.\n",
      "Which door do you choose? Left or Right? right\n",
      "You enter a room of fire! Game over!\n"
     ]
    }
   ],
   "source": [
    "def text_adventure_game():\n",
    "    print(\"Welcome to the Text Adventure Game!\")\n",
    "    print(\"You are in a dark room. There are two doors, one to your left and one to your right.\")\n",
    "\n",
    "    while True:\n",
    "        choice1 = input(\"Which door do you choose? Left or Right? \").lower()\n",
    "\n",
    "        if choice1 == \"left\":\n",
    "            print(\"You enter a room full of treasure! You win!\")\n",
    "            break\n",
    "        elif choice1 == \"right\":\n",
    "            print(\"You enter a room of fire! Game over!\")\n",
    "            break\n",
    "        else:\n",
    "            print(\"Invalid input. Please try again.\")\n",
    "\n",
    "\n",
    "text_adventure_game()\n"
   ]
  },
  {
   "cell_type": "markdown",
   "id": "2f89811b",
   "metadata": {},
   "source": [
    "# 25. Build a program that solves a linear equation for x, considering different cases."
   ]
  },
  {
   "cell_type": "code",
   "execution_count": 109,
   "id": "96c6fdd0",
   "metadata": {},
   "outputs": [
    {
     "name": "stdout",
     "output_type": "stream",
     "text": [
      "Enter the coefficient of x: 0\n",
      "Enter the constant term: 9\n",
      "The solution for the equation 0.0x + 9.0 = 0 is x = No solution.\n"
     ]
    }
   ],
   "source": [
    "def solve_linear_equation(a, b):\n",
    "    if a == 0:\n",
    "        if b == 0:\n",
    "            return \"Infinite solutions\"\n",
    "        else:\n",
    "            return \"No solution\"\n",
    "    else:\n",
    "        x = -b / a\n",
    "        return x\n",
    "\n",
    "\n",
    "a = float(input(\"Enter the coefficient of x: \"))\n",
    "b = float(input(\"Enter the constant term: \"))\n",
    "\n",
    "solution = solve_linear_equation(a, b)\n",
    "print(f\"The solution for the equation {a}x + {b} = 0 is x = {solution}.\")\n"
   ]
  },
  {
   "cell_type": "markdown",
   "id": "98f321fc",
   "metadata": {},
   "source": [
    "# 26. Write a program that simulates a basic quiz game with multiple-choice questions and scoring."
   ]
  },
  {
   "cell_type": "code",
   "execution_count": 110,
   "id": "976f7010",
   "metadata": {},
   "outputs": [
    {
     "name": "stdout",
     "output_type": "stream",
     "text": [
      "What is the capital of France? \n",
      "a. Madrid \n",
      "b. Paris \n",
      "c. Rome \n",
      "d. Berlin\n",
      "\n",
      "Enter your answer (a, b, c, or d): Rome\n",
      "Incorrect!\n",
      "Which planet is known as the Red Planet? \n",
      "a. Jupiter \n",
      "b. Mars \n",
      "c. Venus \n",
      "d. Saturn\n",
      "\n",
      "Enter your answer (a, b, c, or d): b\n",
      "Correct!\n",
      "What is the powerhouse of the cell? \n",
      "a. Nucleus \n",
      "b. Mitochondria \n",
      "c. Ribosome \n",
      "d. Endoplasmic reticulum\n",
      "\n",
      "Enter your answer (a, b, c, or d): Ribosome\n",
      "Incorrect!\n",
      "You got 1 out of 3 questions correct.\n"
     ]
    }
   ],
   "source": [
    "def run_quiz(questions):\n",
    "    score = 0\n",
    "    for question in questions:\n",
    "        print(question)\n",
    "        answer = input(\"Enter your answer (a, b, c, or d): \").lower()\n",
    "        if answer == questions[question]:\n",
    "            print(\"Correct!\")\n",
    "            score += 1\n",
    "        else:\n",
    "            print(\"Incorrect!\")\n",
    "\n",
    "    print(f\"You got {score} out of {len(questions)} questions correct.\")\n",
    "\n",
    "\n",
    "questions = {\n",
    "    \"What is the capital of France? \\na. Madrid \\nb. Paris \\nc. Rome \\nd. Berlin\\n\": \"b\",\n",
    "    \"Which planet is known as the Red Planet? \\na. Jupiter \\nb. Mars \\nc. Venus \\nd. Saturn\\n\": \"b\",\n",
    "    \"What is the powerhouse of the cell? \\na. Nucleus \\nb. Mitochondria \\nc. Ribosome \\nd. Endoplasmic reticulum\\n\": \"b\"\n",
    "}\n",
    "\n",
    "run_quiz(questions)\n"
   ]
  },
  {
   "cell_type": "markdown",
   "id": "c8b2f411",
   "metadata": {},
   "source": [
    "# 27. Develop a program that determines whether a given year is a prime number or not."
   ]
  },
  {
   "cell_type": "code",
   "execution_count": 116,
   "id": "5bce3fd5",
   "metadata": {},
   "outputs": [
    {
     "name": "stdout",
     "output_type": "stream",
     "text": [
      "Enter a year: 2040\n",
      "The year 2040 is not a prime number.\n"
     ]
    }
   ],
   "source": [
    "def check_prime(year):\n",
    "    if year > 1:\n",
    "        for i in range(2, year):\n",
    "            if (year % i) == 0:\n",
    "                return False\n",
    "        return True\n",
    "    else:\n",
    "        return False\n",
    "\n",
    "\n",
    "year = int(input(\"Enter a year: \"))\n",
    "if check_prime(year):\n",
    "    print(f\"The year {year} is a prime number.\")\n",
    "else:\n",
    "    print(f\"The year {year} is not a prime number.\")\n"
   ]
  },
  {
   "cell_type": "markdown",
   "id": "7636cc24",
   "metadata": {},
   "source": [
    "# 28. Create a program that sorts three numbers in ascending order using conditional statements."
   ]
  },
  {
   "cell_type": "code",
   "execution_count": 117,
   "id": "f62d6285",
   "metadata": {},
   "outputs": [
    {
     "name": "stdout",
     "output_type": "stream",
     "text": [
      "Enter the first number: 10\n",
      "Enter the second number: 5\n",
      "Enter the third number: 20\n",
      "The numbers in ascending order are: (5.0, 10.0, 20.0).\n"
     ]
    }
   ],
   "source": [
    "def sort_numbers(num1, num2, num3):\n",
    "    if num1 <= num2 <= num3:\n",
    "        return num1, num2, num3\n",
    "    elif num1 <= num3 <= num2:\n",
    "        return num1, num3, num2\n",
    "    elif num2 <= num1 <= num3:\n",
    "        return num2, num1, num3\n",
    "    elif num2 <= num3 <= num1:\n",
    "        return num2, num3, num1\n",
    "    elif num3 <= num1 <= num2:\n",
    "        return num3, num1, num2\n",
    "    else:\n",
    "        return num3, num2, num1\n",
    "\n",
    "\n",
    "num1 = float(input(\"Enter the first number: \"))\n",
    "num2 = float(input(\"Enter the second number: \"))\n",
    "num3 = float(input(\"Enter the third number: \"))\n",
    "\n",
    "sorted_nums = sort_numbers(num1, num2, num3)\n",
    "print(f\"The numbers in ascending order are: {sorted_nums}.\")\n"
   ]
  },
  {
   "cell_type": "markdown",
   "id": "e7aa1566",
   "metadata": {},
   "source": [
    "# 29. Build a program that determines the roots of a quartic equation using numerical methods."
   ]
  },
  {
   "cell_type": "code",
   "execution_count": 124,
   "id": "cb0ad38b",
   "metadata": {},
   "outputs": [
    {
     "name": "stdout",
     "output_type": "stream",
     "text": [
      "The roots of the quartic equation x^4 - 1 = 0 are: [].\n"
     ]
    }
   ],
   "source": [
    "import numpy as np\n",
    "\n",
    "def f(x):\n",
    "  return x**4 - 1\n",
    "\n",
    "def bisection_method(f, a, b, tol=1e-6):\n",
    "  \n",
    "  while abs(b - a) > tol:\n",
    "    m = (a + b) / 2\n",
    "    if f(m) == 0:\n",
    "        return m\n",
    "    elif f(m) < 0:\n",
    "        a = m\n",
    "    else:\n",
    "        b = m\n",
    "    return None\n",
    "\n",
    "\n",
    "# Find the roots of the quartic equation x^4 - 1 = 0.\n",
    "roots = []\n",
    "for i in range(-2, 3):\n",
    "    root = bisection_method(f, i, i + 1)\n",
    "    if root is not None:\n",
    "        roots.append(root)\n",
    "\n",
    "# Print the roots.\n",
    "print(f\"The roots of the quartic equation x^4 - 1 = 0 are: {roots}.\")\n"
   ]
  },
  {
   "cell_type": "markdown",
   "id": "8c79a5c4",
   "metadata": {},
   "source": [
    "# 30. Write a program that calculates the BMI (Body Mass Index) and provides health recommendations based on the user's input."
   ]
  },
  {
   "cell_type": "code",
   "execution_count": 127,
   "id": "11f3dace",
   "metadata": {},
   "outputs": [
    {
     "name": "stdout",
     "output_type": "stream",
     "text": [
      "Enter your weight in kilograms: 70\n",
      "Enter your height in meters: 1.7\n",
      "Your BMI is 24.22. You have a normal weight. Keep up the good work!\n"
     ]
    }
   ],
   "source": [
    " def calculate_bmi(weight, height):\n",
    "    return weight / (height ** 2)\n",
    "\n",
    "def health_recommendations(bmi):\n",
    "    if bmi < 18.5:\n",
    "        return \"You are underweight. You should consider gaining some weight.\"\n",
    "    elif 18.5 <= bmi < 25:\n",
    "        return \"You have a normal weight. Keep up the good work!\"\n",
    "    elif 25 <= bmi < 30:\n",
    "        return \"You are overweight. You should consider losing some weight.\"\n",
    "    else:\n",
    "        return \"You are obese. You should consult a doctor for a proper diet and exercise plan.\"\n",
    "\n",
    "\n",
    "weight = float(input(\"Enter your weight in kilograms: \"))\n",
    "height = float(input(\"Enter your height in meters: \"))\n",
    "\n",
    "bmi = calculate_bmi(weight, height)\n",
    "recommendation = health_recommendations(bmi)\n",
    "print(f\"Your BMI is {bmi:.2f}. {recommendation}\")\n"
   ]
  },
  {
   "cell_type": "markdown",
   "id": "cb3d75f6",
   "metadata": {},
   "source": [
    "# Challenge Level:"
   ]
  },
  {
   "cell_type": "markdown",
   "id": "a2a99ce4",
   "metadata": {},
   "source": [
    "# 31. Create a program that validates a password based on complexity rules (length, characters, etc.)."
   ]
  },
  {
   "cell_type": "code",
   "execution_count": 129,
   "id": "9b487d1e",
   "metadata": {},
   "outputs": [
    {
     "name": "stdout",
     "output_type": "stream",
     "text": [
      "Enter a password: Qwert@123456789\n",
      "Password is valid.\n"
     ]
    }
   ],
   "source": [
    "import re\n",
    "\n",
    "def validate_password(password):\n",
    "    if len(password) < 8:\n",
    "        return \"Password should be at least 8 characters long.\"\n",
    "    elif not re.search(\"[a-z]\", password):\n",
    "        return \"Password should contain at least one lowercase letter.\"\n",
    "    elif not re.search(\"[A-Z]\", password):\n",
    "        return \"Password should contain at least one uppercase letter.\"\n",
    "    elif not re.search(\"[0-9]\", password):\n",
    "        return \"Password should contain at least one digit.\"\n",
    "    elif not re.search(\"[_@$]\", password):\n",
    "        return \"Password should contain at least one of these special characters: _@$\"\n",
    "    else:\n",
    "        return \"Password is valid.\"\n",
    "\n",
    "# Example usage:\n",
    "password = input(\"Enter a password: \")\n",
    "\n",
    "validation_result = validate_password(password)\n",
    "print(validation_result)\n"
   ]
  },
  {
   "cell_type": "markdown",
   "id": "831fb72c",
   "metadata": {},
   "source": [
    "# 32. Develop a program that performs matrix addition and subtraction based on user input."
   ]
  },
  {
   "cell_type": "code",
   "execution_count": 130,
   "id": "5e5b6c8a",
   "metadata": {},
   "outputs": [
    {
     "name": "stdout",
     "output_type": "stream",
     "text": [
      "Matrix Addition Result:\n",
      "[10, 10, 10]\n",
      "[10, 10, 10]\n",
      "[10, 10, 10]\n",
      "\n",
      "Matrix Subtraction Result:\n",
      "[-8, -6, -4]\n",
      "[-2, 0, 2]\n",
      "[4, 6, 8]\n"
     ]
    }
   ],
   "source": [
    "def matrix_addition(matrix1, matrix2):\n",
    "    result = [[0 for j in range(len(matrix1[0]))] for i in range(len(matrix1))]\n",
    "    for i in range(len(matrix1)):\n",
    "        for j in range(len(matrix1[0])):\n",
    "            result[i][j] = matrix1[i][j] + matrix2[i][j]\n",
    "    return result\n",
    "\n",
    "def matrix_subtraction(matrix1, matrix2):\n",
    "    result = [[0 for j in range(len(matrix1[0]))] for i in range(len(matrix1))]\n",
    "    for i in range(len(matrix1)):\n",
    "        for j in range(len(matrix1[0])):\n",
    "            result[i][j] = matrix1[i][j] - matrix2[i][j]\n",
    "    return result\n",
    "\n",
    "\n",
    "matrix1 = [[1, 2, 3], [4, 5, 6], [7, 8, 9]]\n",
    "matrix2 = [[9, 8, 7], [6, 5, 4], [3, 2, 1]]\n",
    "\n",
    "addition_result = matrix_addition(matrix1, matrix2)\n",
    "subtraction_result = matrix_subtraction(matrix1, matrix2)\n",
    "\n",
    "print(\"Matrix Addition Result:\")\n",
    "for row in addition_result:\n",
    "    print(row)\n",
    "\n",
    "print(\"\\nMatrix Subtraction Result:\")\n",
    "for row in subtraction_result:\n",
    "    print(row)\n"
   ]
  },
  {
   "cell_type": "markdown",
   "id": "d50d55f1",
   "metadata": {},
   "source": [
    "# 33. Write a program that calculates the greatest common divisor (GCD) of two numbers using the Euclidean algorithm."
   ]
  },
  {
   "cell_type": "code",
   "execution_count": 132,
   "id": "e1cda8c1",
   "metadata": {},
   "outputs": [
    {
     "name": "stdout",
     "output_type": "stream",
     "text": [
      "Enter the first number: 90\n",
      "Enter the second number: 9\n",
      "The greatest common divisor of 90 and 9 is 9.\n"
     ]
    }
   ],
   "source": [
    "def euclidean_algorithm(a, b):\n",
    "    while b:\n",
    "        a, b = b, a % b\n",
    "    return a\n",
    "\n",
    "\n",
    "num1 = int(input(\"Enter the first number: \"))\n",
    "num2 = int(input(\"Enter the second number: \"))\n",
    "\n",
    "gcd = euclidean_algorithm(num1, num2)\n",
    "print(f\"The greatest common divisor of {num1} and {num2} is {gcd}.\")\n"
   ]
  },
  {
   "cell_type": "markdown",
   "id": "e18a33df",
   "metadata": {},
   "source": [
    "# 34. Build a program that performs matrix multiplication using nested loops and conditional statements."
   ]
  },
  {
   "cell_type": "code",
   "execution_count": 133,
   "id": "1ae89761",
   "metadata": {},
   "outputs": [
    {
     "name": "stdout",
     "output_type": "stream",
     "text": [
      "Matrix Multiplication Result:\n",
      "[58, 64]\n",
      "[139, 154]\n"
     ]
    }
   ],
   "source": [
    "def matrix_multiplication(matrix1, matrix2):\n",
    "    rows_matrix1 = len(matrix1)\n",
    "    cols_matrix1 = len(matrix1[0])\n",
    "    rows_matrix2 = len(matrix2)\n",
    "    cols_matrix2 = len(matrix2[0])\n",
    "\n",
    "    if cols_matrix1 != rows_matrix2:\n",
    "        return \"Matrix multiplication not possible. Inner dimensions do not match.\"\n",
    "\n",
    "    result = [[0 for _ in range(cols_matrix2)] for _ in range(rows_matrix1)]\n",
    "\n",
    "    for i in range(rows_matrix1):\n",
    "        for j in range(cols_matrix2):\n",
    "            for k in range(cols_matrix1):\n",
    "                result[i][j] += matrix1[i][k] * matrix2[k][j]\n",
    "\n",
    "    return result\n",
    "\n",
    "\n",
    "matrix1 = [[1, 2, 3], [4, 5, 6]]\n",
    "matrix2 = [[7, 8], [9, 10], [11, 12]]\n",
    "\n",
    "multiplication_result = matrix_multiplication(matrix1, matrix2)\n",
    "\n",
    "if isinstance(multiplication_result, str):\n",
    "    print(multiplication_result)\n",
    "else:\n",
    "    print(\"Matrix Multiplication Result:\")\n",
    "    for row in multiplication_result:\n",
    "        print(row)\n"
   ]
  },
  {
   "cell_type": "markdown",
   "id": "60fe08b0",
   "metadata": {},
   "source": [
    "# 35. Create a program that simulates a basic text-based tic-tac-toe game against the computer."
   ]
  },
  {
   "cell_type": "code",
   "execution_count": null,
   "id": "732a4686",
   "metadata": {},
   "outputs": [],
   "source": [
    "import random\n",
    "\n",
    "def print_board(board):\n",
    "    for row in board:\n",
    "        print(\"|\".join(row))\n",
    "        print(\"-\"*5)\n",
    "\n",
    "def check_winner(board, player):\n",
    "    for row in board:\n",
    "        if all([cell == player for cell in row]):\n",
    "            return True\n",
    "\n",
    "    for col in range(3):\n",
    "        if all([board[row][col] == player for row in range(3)]):\n",
    "            return True\n",
    "\n",
    "    if all([board[i][i] == player for i in range(3)]) or all([board[i][2-i] == player for i in range(3)]):\n",
    "        return True\n",
    "\n",
    "    return False\n",
    "\n",
    "def is_board_full(board):\n",
    "    for row in board:\n",
    "        if \" \" in row:\n",
    "            return False\n",
    "    return True\n",
    "\n",
    "def get_empty_cells(board):\n",
    "    empty_cells = []\n",
    "    for i in range(3):\n",
    "        for j in range(3):\n",
    "            if board[i][j] == \" \":\n",
    "                empty_cells.append((i, j))\n",
    "    return empty_cells\n",
    "\n",
    "def computer_move(board):\n",
    "    empty_cells = get_empty_cells(board)\n",
    "    return random.choice(empty_cells)\n",
    "\n",
    "# Example usage:\n",
    "board = [[\" \"]*3 for _ in range(3)]\n",
    "players = [\"X\", \"O\"]\n",
    "current_player = players[0]\n",
    "\n",
    "while True:\n",
    "    print_board(board)\n",
    "    if is_board_full(board):\n",
    "        print(\"It's a tie!\")\n",
    "        break\n",
    "\n",
    "    if check_winner(board, players[0]):\n",
    "        print(\"You win!\")\n",
    "        break\n",
    "\n",
    "    if check_winner(board, players[1]):\n",
    "        print(\"Computer wins!\")\n",
    "        break\n",
    "\n",
    "    if current_player == players[0]:\n",
    "        row, col = map(int, input(\"Enter your move (row col): \").split())\n",
    "        if board[row][col] != \" \":\n",
    "            print(\"Cell already taken. Try again.\")\n",
    "            continue\n",
    "        board[row][col] = current_player\n",
    "        current_player = players[1]\n",
    "    else:\n",
    "        row, col = computer_move(board)\n",
    "        board[row][col] = current_player\n",
    "        current_player = players[0]\n"
   ]
  },
  {
   "cell_type": "markdown",
   "id": "6e4a42c2",
   "metadata": {},
   "source": [
    "# 36. Write a program that generates Fibonacci numbers up to a specified term using iterative methods."
   ]
  },
  {
   "cell_type": "code",
   "execution_count": 137,
   "id": "011bcd48",
   "metadata": {},
   "outputs": [
    {
     "name": "stdout",
     "output_type": "stream",
     "text": [
      "Enter the number of terms: 5\n",
      "The Fibonacci sequence up to 5 terms is: [0, 1, 1, 2, 3]\n"
     ]
    }
   ],
   "source": [
    "def generate_fibonacci_numbers(n):\n",
    "    fib_list = []\n",
    "    a, b = 0, 1\n",
    "    for _ in range(n):\n",
    "        fib_list.append(a)\n",
    "        a, b = b, a + b\n",
    "    return fib_list\n",
    "\n",
    "\n",
    "n = int(input(\"Enter the number of terms: \"))\n",
    "fibonacci_sequence = generate_fibonacci_numbers(n)\n",
    "print(f\"The Fibonacci sequence up to {n} terms is: {fibonacci_sequence}\")\n"
   ]
  },
  {
   "cell_type": "markdown",
   "id": "0d104770",
   "metadata": {},
   "source": [
    "# 37. Develop a program that calculates the nth term of the Fibonacci sequence using memoization."
   ]
  },
  {
   "cell_type": "code",
   "execution_count": 138,
   "id": "4561f055",
   "metadata": {},
   "outputs": [
    {
     "name": "stdout",
     "output_type": "stream",
     "text": [
      "Enter the value of n: 2\n",
      "The 2th term of the Fibonacci sequence is: 1\n"
     ]
    }
   ],
   "source": [
    "def fibonacci_with_memoization(n, memo={}):\n",
    "    if n in memo:\n",
    "        return memo[n]\n",
    "    if n <= 1:\n",
    "        return n\n",
    "    else:\n",
    "        memo[n] = fibonacci_with_memoization(n-1, memo) + fibonacci_with_memoization(n-2, memo)\n",
    "        return memo[n]\n",
    "\n",
    "\n",
    "n = int(input(\"Enter the value of n: \"))\n",
    "result = fibonacci_with_memoization(n)\n",
    "print(f\"The {n}th term of the Fibonacci sequence is: {result}\")\n"
   ]
  },
  {
   "cell_type": "markdown",
   "id": "3b542bcc",
   "metadata": {},
   "source": [
    "# 38. Create a program that generates a calendar for a given month and year using conditional statements."
   ]
  },
  {
   "cell_type": "code",
   "execution_count": 139,
   "id": "b3835b97",
   "metadata": {},
   "outputs": [
    {
     "name": "stdout",
     "output_type": "stream",
     "text": [
      "Enter the year: 2024\n",
      "Enter the month: 5\n",
      "The calendar for May 2024 is:\n",
      "      May 2024\n",
      "Mo Tu We Th Fr Sa Su\n",
      "       1  2  3  4  5\n",
      " 6  7  8  9 10 11 12\n",
      "13 14 15 16 17 18 19\n",
      "20 21 22 23 24 25 26\n",
      "27 28 29 30 31\n",
      "\n"
     ]
    }
   ],
   "source": [
    "import calendar\n",
    "\n",
    "def generate_calendar(year, month):\n",
    "    cal = calendar.month(year, month)\n",
    "    return cal\n",
    "\n",
    "\n",
    "year = int(input(\"Enter the year: \"))\n",
    "month = int(input(\"Enter the month: \"))\n",
    "\n",
    "calendar_output = generate_calendar(year, month)\n",
    "print(f\"The calendar for {calendar.month_name[month]} {year} is:\\n{calendar_output}\")\n"
   ]
  },
  {
   "cell_type": "markdown",
   "id": "c4cdbf03",
   "metadata": {},
   "source": [
    "# 39. Build a program that simulates a basic text-based blackjack game against the computer."
   ]
  },
  {
   "cell_type": "code",
   "execution_count": null,
   "id": "d6bf2a08",
   "metadata": {},
   "outputs": [],
   "source": [
    "import random\n",
    "\n",
    "def deal_card():\n",
    "    return random.randint(1, 11)\n",
    "\n",
    "def calculate_total(cards):\n",
    "    total = sum(cards)\n",
    "    if total == 21:\n",
    "        return 21\n",
    "    if 11 in cards and total > 21:\n",
    "        total -= 10\n",
    "    return total\n",
    "\n",
    "def print_results(player_cards, dealer_cards):\n",
    "    player_total = calculate_total(player_cards)\n",
    "    dealer_total = calculate_total(dealer_cards)\n",
    "    print(f\"Your cards: {player_cards}, current total: {player_total}\")\n",
    "    print(f\"Dealer's cards: {dealer_cards}, current total: {dealer_total}\")\n",
    "\n",
    "# Game setup\n",
    "player_cards = [deal_card(), deal_card()]\n",
    "dealer_cards = [deal_card()]\n",
    "\n",
    "# Game start\n",
    "print(\"Welcome to Blackjack!\")\n",
    "print_results(player_cards, dealer_cards)\n",
    "\n",
    "while True:\n",
    "    if calculate_total(player_cards) == 21:\n",
    "        print(\"You win!\")\n",
    "        break\n",
    "\n",
    "    if calculate_total(player_cards) > 21:\n",
    "        print(\"You bust! Dealer wins.\")\n",
    "        break\n",
    "\n",
    "    choice = input(\"Do you want to hit or stand? \").lower()\n",
    "    if choice == 'hit':\n",
    "        player_cards.append(deal_card())\n",
    "        print_results(player_cards, dealer_cards)\n",
    "    elif choice == 'stand':\n",
    "        while calculate_total(dealer_cards) < 17:\n",
    "            dealer_cards.append(deal_card())\n",
    "        print_results(player_cards, dealer_cards)\n",
    "        player_total = calculate_total(player_cards)\n",
    "        dealer_total = calculate_total(dealer_cards)\n",
    "        if dealer_total > 21 or player_total > dealer_total:\n",
    "            print(\"You win!\")\n",
    "        elif dealer_total == player_total:\n",
    "            print(\"It's a tie!\")\n",
    "        else:\n",
    "            print(\"Dealer wins!\")\n",
    "        break\n",
    "    else:\n",
    "        print(\"Invalid input. Please try again.\")\n"
   ]
  },
  {
   "cell_type": "markdown",
   "id": "ef4efac8",
   "metadata": {},
   "source": [
    "# 40. Write a program that generates the prime factors of a given number using trial division."
   ]
  },
  {
   "cell_type": "code",
   "execution_count": 141,
   "id": "8f5780ca",
   "metadata": {},
   "outputs": [
    {
     "name": "stdout",
     "output_type": "stream",
     "text": [
      "Enter a number: 9\n",
      "The prime factors of 9 are: [3, 3]\n"
     ]
    }
   ],
   "source": [
    "def prime_factors(n):\n",
    "    factors = []\n",
    "    divisor = 2\n",
    "    while n > 1:\n",
    "        while n % divisor == 0:\n",
    "            factors.append(divisor)\n",
    "            n //= divisor\n",
    "        divisor += 1\n",
    "    return factors\n",
    "\n",
    "\n",
    "number = int(input(\"Enter a number: \"))\n",
    "factors = prime_factors(number)\n",
    "print(f\"The prime factors of {number} are: {factors}\")\n"
   ]
  },
  {
   "cell_type": "code",
   "execution_count": null,
   "id": "185afced",
   "metadata": {},
   "outputs": [],
   "source": []
  }
 ],
 "metadata": {
  "kernelspec": {
   "display_name": "Python 3 (ipykernel)",
   "language": "python",
   "name": "python3"
  },
  "language_info": {
   "codemirror_mode": {
    "name": "ipython",
    "version": 3
   },
   "file_extension": ".py",
   "mimetype": "text/x-python",
   "name": "python",
   "nbconvert_exporter": "python",
   "pygments_lexer": "ipython3",
   "version": "3.9.7"
  }
 },
 "nbformat": 4,
 "nbformat_minor": 5
}
